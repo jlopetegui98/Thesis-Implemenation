{
 "cells": [
  {
   "cell_type": "markdown",
   "metadata": {},
   "source": [
    "## Get embeddings of dataset sentences"
   ]
  },
  {
   "cell_type": "code",
   "execution_count": null,
   "metadata": {},
   "outputs": [],
   "source": [
    "from embedding_model.embedding_model import Embedder"
   ]
  },
  {
   "cell_type": "code",
   "execution_count": 2,
   "metadata": {},
   "outputs": [],
   "source": [
    "import torch"
   ]
  },
  {
   "cell_type": "code",
   "execution_count": 3,
   "metadata": {},
   "outputs": [],
   "source": [
    "DATA_PATH = \"./datasets/\""
   ]
  },
  {
   "cell_type": "code",
   "execution_count": null,
   "metadata": {},
   "outputs": [],
   "source": [
    "embedder = Embedder()"
   ]
  },
  {
   "cell_type": "code",
   "execution_count": 5,
   "metadata": {},
   "outputs": [
    {
     "name": "stdout",
     "output_type": "stream",
     "text": [
      "cpu\n"
     ]
    }
   ],
   "source": [
    "device = \"cuda:0\" if torch.cuda.is_available() else \"cpu\"\n",
    "print(device)"
   ]
  },
  {
   "cell_type": "markdown",
   "metadata": {},
   "source": [
    "### Expertise dataset "
   ]
  },
  {
   "cell_type": "code",
   "execution_count": null,
   "metadata": {},
   "outputs": [],
   "source": [
    "with open(f\"{DATA_PATH}expertise/sentences/train.txt\", 'r+') as fd:\n",
    "    sentences = fd.readlines()\n",
    "path_to_save = f\"{DATA_PATH}expertise/embeddings/train_\"\n",
    "embedder.get_embeddings(sentences,device,path_to_save)"
   ]
  },
  {
   "cell_type": "code",
   "execution_count": null,
   "metadata": {},
   "outputs": [],
   "source": [
    "with open(f\"{DATA_PATH}expertise/sentences/test.txt\", 'r+') as fd:\n",
    "    sentences = fd.readlines()\n",
    "path_to_save = f\"{DATA_PATH}expertise/embeddings/test_\"\n",
    "embedder.get_embeddings(sentences,device,path_to_save)"
   ]
  },
  {
   "cell_type": "markdown",
   "metadata": {},
   "source": [
    "### Formality-score dataset"
   ]
  },
  {
   "cell_type": "code",
   "execution_count": null,
   "metadata": {},
   "outputs": [],
   "source": [
    "with open(f\"{DATA_PATH}formality-score/sentences/train.txt\", 'r+') as fd:\n",
    "    sentences = fd.readlines()\n",
    "# print(len(sentences))\n",
    "path_to_save = f\"{DATA_PATH}formality-score/embeddings/train_\"\n",
    "embeddings = embedder.get_embeddings(sentences,device,path_to_save)"
   ]
  },
  {
   "cell_type": "code",
   "execution_count": null,
   "metadata": {},
   "outputs": [],
   "source": [
    "with open(f\"{DATA_PATH}formality-score/sentences/test.txt\", 'r+') as fd:\n",
    "    sentences = fd.readlines()\n",
    "path_to_save = f\"{DATA_PATH}formality-score/embeddings/test_\"\n",
    "embedder.get_embeddings(sentences,device,path_to_save)"
   ]
  },
  {
   "cell_type": "markdown",
   "metadata": {},
   "source": [
    "### Politeness dataset"
   ]
  },
  {
   "cell_type": "code",
   "execution_count": null,
   "metadata": {},
   "outputs": [],
   "source": [
    "with open(f\"{DATA_PATH}politeness/sentences/sentences.txt\", 'r+') as fd:\n",
    "    sentences = fd.readlines()\n",
    "# len(sentences)\n",
    "path_to_save = f\"{DATA_PATH}politeness/embeddings/sentences_\"\n",
    "embedder.get_embeddings(sentences,device,path_to_save)"
   ]
  }
 ],
 "metadata": {
  "kernelspec": {
   "display_name": "Python 3",
   "language": "python",
   "name": "python3"
  },
  "language_info": {
   "codemirror_mode": {
    "name": "ipython",
    "version": 3
   },
   "file_extension": ".py",
   "mimetype": "text/x-python",
   "name": "python",
   "nbconvert_exporter": "python",
   "pygments_lexer": "ipython3",
   "version": "3.10.4"
  },
  "orig_nbformat": 4,
  "vscode": {
   "interpreter": {
    "hash": "b54bf50e215961265705773e556e63326e1cc63981e516147023b780df3eb29f"
   }
  }
 },
 "nbformat": 4,
 "nbformat_minor": 2
}
