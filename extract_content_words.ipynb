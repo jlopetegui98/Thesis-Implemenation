{
 "cells": [
  {
   "cell_type": "code",
   "execution_count": 1,
   "metadata": {},
   "outputs": [],
   "source": [
    "from content_words_extractor_model.content_word_extractor_model import ContentWordsExtractor"
   ]
  },
  {
   "cell_type": "code",
   "execution_count": null,
   "metadata": {},
   "outputs": [],
   "source": [
    "content_words_extractor = ContentWordsExtractor()"
   ]
  },
  {
   "cell_type": "markdown",
   "metadata": {},
   "source": [
    "### Get content words from expertise dataset"
   ]
  },
  {
   "cell_type": "code",
   "execution_count": 34,
   "metadata": {},
   "outputs": [],
   "source": [
    "with open(\"./Process_datasets/datasets/expertise/sentences/train.txt\", 'r+') as fd:\n",
    "    train_sentences = fd.readlines()\n",
    "\n",
    "train_sentences_content_words = [content_words_extractor.get_content_words(sentence) for sentence in train_sentences]"
   ]
  },
  {
   "cell_type": "code",
   "execution_count": 35,
   "metadata": {},
   "outputs": [],
   "source": [
    "with open(\"./Process_datasets/datasets/expertise/sentences_content_words/train.txt\", 'w+') as fd:\n",
    "    lines = [\" \".join(train_sentences_content_words[i]) for i in range(len(train_sentences_content_words))]\n",
    "    fd.write(\"\\n\".join(lines))"
   ]
  },
  {
   "cell_type": "code",
   "execution_count": 27,
   "metadata": {},
   "outputs": [],
   "source": [
    "with open(\"./Process_datasets/datasets/expertise/sentences/test.txt\", 'r+') as fd:\n",
    "    test_sentences = fd.readlines()\n",
    "\n",
    "test_sentences_content_words = [content_words_extractor.get_content_words(sentence) for sentence in test_sentences]"
   ]
  },
  {
   "cell_type": "code",
   "execution_count": 28,
   "metadata": {},
   "outputs": [],
   "source": [
    "with open(\"./Process_datasets/datasets/expertise/sentences_content_words/test.txt\", 'w+') as fd:\n",
    "    lines = [\" \".join(test_sentences_content_words[i]) for i in range(len(test_sentences_content_words))]\n",
    "    fd.write(\"\\n\".join(lines))"
   ]
  },
  {
   "cell_type": "markdown",
   "metadata": {},
   "source": [
    "### Get content words from formality score dataset"
   ]
  },
  {
   "cell_type": "code",
   "execution_count": 29,
   "metadata": {},
   "outputs": [],
   "source": [
    "with open(\"./Process_datasets/datasets/formality-score/sentences/train.txt\", 'r+') as fd:\n",
    "    train_sentences = fd.readlines()\n",
    "\n",
    "train_sentences_content_words = [content_words_extractor.get_content_words(sentence) for sentence in train_sentences]"
   ]
  },
  {
   "cell_type": "code",
   "execution_count": 30,
   "metadata": {},
   "outputs": [],
   "source": [
    "with open(\"./Process_datasets/datasets/formality-score/sentences_content_words/train.txt\", 'w+') as fd:\n",
    "    lines = [\" \".join(train_sentences_content_words[i]) for i in range(len(train_sentences_content_words))]\n",
    "    fd.write(\"\\n\".join(lines))"
   ]
  },
  {
   "cell_type": "code",
   "execution_count": 32,
   "metadata": {},
   "outputs": [],
   "source": [
    "with open(\"./Process_datasets/datasets/formality-score/sentences/test.txt\", 'r+') as fd:\n",
    "    test_sentences = fd.readlines()\n",
    "\n",
    "test_sentences_content_words = [content_words_extractor.get_content_words(sentence) for sentence in test_sentences]"
   ]
  },
  {
   "cell_type": "code",
   "execution_count": 33,
   "metadata": {},
   "outputs": [],
   "source": [
    "with open(\"./Process_datasets/datasets/formality-score/sentences_content_words/test.txt\", 'w+') as fd:\n",
    "    lines = [\" \".join(test_sentences_content_words[i]) for i in range(len(test_sentences_content_words))]\n",
    "    fd.write(\"\\n\".join(lines))"
   ]
  },
  {
   "cell_type": "markdown",
   "metadata": {},
   "source": [
    "### Get content words from politeness dataset"
   ]
  },
  {
   "cell_type": "code",
   "execution_count": 25,
   "metadata": {},
   "outputs": [],
   "source": [
    "with open(\"./Process_datasets/datasets/politeness/sentences/sentences.txt\", 'r+') as fd:\n",
    "    sentences = fd.readlines()\n",
    "\n",
    "sentences_content_words = [content_words_extractor.get_content_words(sentence) for sentence in sentences]"
   ]
  },
  {
   "cell_type": "code",
   "execution_count": 26,
   "metadata": {},
   "outputs": [],
   "source": [
    "with open(\"./Process_datasets/datasets/politeness/sentences_content_words/sentences.txt\", 'w+') as fd:\n",
    "    lines = [\" \".join(test_sentences_content_words[i]) for i in range(len(test_sentences_content_words))]\n",
    "    fd.write(\"\\n\".join(lines))"
   ]
  }
 ],
 "metadata": {
  "kernelspec": {
   "display_name": "Python 3",
   "language": "python",
   "name": "python3"
  },
  "language_info": {
   "codemirror_mode": {
    "name": "ipython",
    "version": 3
   },
   "file_extension": ".py",
   "mimetype": "text/x-python",
   "name": "python",
   "nbconvert_exporter": "python",
   "pygments_lexer": "ipython3",
   "version": "3.10.4 (main, Mar 31 2022, 03:37:37) [Clang 12.0.0 ]"
  },
  "orig_nbformat": 4,
  "vscode": {
   "interpreter": {
    "hash": "b54bf50e215961265705773e556e63326e1cc63981e516147023b780df3eb29f"
   }
  }
 },
 "nbformat": 4,
 "nbformat_minor": 2
}
