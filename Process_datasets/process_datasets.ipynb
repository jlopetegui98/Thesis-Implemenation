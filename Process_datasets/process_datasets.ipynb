{
 "cells": [
  {
   "cell_type": "markdown",
   "metadata": {},
   "source": [
    "## Expert and Layman stiles dataset"
   ]
  },
  {
   "cell_type": "markdown",
   "metadata": {},
   "source": [
    "### Trainning test"
   ]
  },
  {
   "cell_type": "code",
   "execution_count": 18,
   "metadata": {},
   "outputs": [],
   "source": [
    "with open(\"./datasets/expertise/train.txt\",'r+') as fd:\n",
    "    sentences = []\n",
    "    labels = []\n",
    "    for line in fd.readlines():\n",
    "        sentences.append(eval(line)[\"text\"])\n",
    "        labels.append(eval(line)[\"label\"])\n",
    "with open(\"./datasets/expertise/sentences/train.txt\",'w+') as fd:\n",
    "    fd.write(\"\\n\".join(map(lambda x:str(x),sentences)))\n",
    "with open(\"./datasets/expertise/labels/train.txt\",'w+') as fd:\n",
    "    fd.write(\"\\n\".join(map(lambda x:str(x),labels)))"
   ]
  },
  {
   "cell_type": "markdown",
   "metadata": {},
   "source": [
    "### Testing set"
   ]
  },
  {
   "cell_type": "code",
   "execution_count": 19,
   "metadata": {},
   "outputs": [],
   "source": [
    "with open(\"./datasets/expertise/test.txt\",'r+') as fd:\n",
    "    sentences = []\n",
    "    labels = []\n",
    "    for line in fd.readlines():\n",
    "        sentences.append(eval(line)[\"text\"])\n",
    "        labels.append(eval(line)[\"label\"])\n",
    "with open(\"./datasets/expertise/sentences/test.txt\",'w+') as fd:\n",
    "    fd.write(\"\\n\".join(map(lambda x:str(x),sentences)))\n",
    "with open(\"./datasets/expertise/labels/test.txt\",'w+') as fd:\n",
    "    fd.write(\"\\n\".join(map(lambda x:str(x),labels)))"
   ]
  },
  {
   "cell_type": "markdown",
   "metadata": {},
   "source": [
    "## Formality corpus"
   ]
  },
  {
   "cell_type": "markdown",
   "metadata": {},
   "source": [
    "### Trainning set"
   ]
  },
  {
   "cell_type": "code",
   "execution_count": 42,
   "metadata": {},
   "outputs": [],
   "source": [
    "import pandas\n",
    "\n",
    "train_set = pandas.read_csv(\"./datasets/formality-score/train.csv\")\n",
    "sentences = list(map(lambda x:str(x),list(train_set.sentence)))\n",
    "form_score = list(map(lambda x:str(x),train_set.avg_score))\n",
    "with open(\"./datasets/formality-score/sentences/train.txt\",'w+') as fd:\n",
    "    fd.write(\"\\n\".join(sentences))\n",
    "with open(\"./datasets/formality-score/fm_score/train.txt\",'w+') as fd:\n",
    "    fd.write(\"\\n\".join(form_score))\n"
   ]
  },
  {
   "cell_type": "markdown",
   "metadata": {},
   "source": [
    "### Test set"
   ]
  },
  {
   "cell_type": "code",
   "execution_count": 44,
   "metadata": {},
   "outputs": [],
   "source": [
    "test_set = pandas.read_csv(\"./datasets/formality-score/test.csv\")\n",
    "sentences = list(map(lambda x:str(x),list(test_set.sentence)))\n",
    "form_score = list(map(lambda x:str(x),test_set.avg_score))\n",
    "with open(\"./datasets/formality-score/sentences/test.txt\",'w+') as fd:\n",
    "    fd.write(\"\\n\".join(sentences))\n",
    "with open(\"./datasets/formality-score/fm_score/test.txt\",'w+') as fd:\n",
    "    fd.write(\"\\n\".join(form_score))"
   ]
  },
  {
   "cell_type": "markdown",
   "metadata": {},
   "source": [
    "## Politeness Corpus"
   ]
  },
  {
   "cell_type": "code",
   "execution_count": 56,
   "metadata": {},
   "outputs": [
    {
     "name": "stdout",
     "output_type": "stream",
     "text": [
      "1    1397119\n",
      "0    1129640\n",
      "Name: is_useful, dtype: int64\n",
      "1    1397119\n",
      "Name: is_useful, dtype: int64\n"
     ]
    }
   ],
   "source": [
    "corpus = pandas.read_csv(\"./datasets/politeness/politeness.csv\")\n",
    "print(corpus.is_useful.value_counts())\n",
    "# drop unuseful sentences\n",
    "corpus.drop(corpus[corpus['is_useful'] == 0].index, inplace=True)\n",
    "print(corpus.is_useful.value_counts())\n",
    "sentences = list(map(lambda x:str(x),list(corpus.txt)))\n",
    "pol_score = list(map(lambda x:str(x),list(corpus.score)))\n",
    "\n",
    "with open(\"./datasets/politeness/sentences/sentences.txt\",'w+') as fd:\n",
    "    fd.write(\"\\n\".join(sentences))\n",
    "with open(\"./datasets/politeness/pl_score/politeness_score.txt\",'w+') as fd:\n",
    "    fd.write(\"\\n\".join(pol_score))"
   ]
  }
 ],
 "metadata": {
  "kernelspec": {
   "display_name": "Python 3.10.4 (conda)",
   "language": "python",
   "name": "python3"
  },
  "language_info": {
   "codemirror_mode": {
    "name": "ipython",
    "version": 3
   },
   "file_extension": ".py",
   "mimetype": "text/x-python",
   "name": "python",
   "nbconvert_exporter": "python",
   "pygments_lexer": "ipython3",
   "version": "3.10.4"
  },
  "orig_nbformat": 4,
  "vscode": {
   "interpreter": {
    "hash": "b54bf50e215961265705773e556e63326e1cc63981e516147023b780df3eb29f"
   }
  }
 },
 "nbformat": 4,
 "nbformat_minor": 2
}
